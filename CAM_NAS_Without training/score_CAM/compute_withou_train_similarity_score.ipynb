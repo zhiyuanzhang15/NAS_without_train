{
 "cells": [
  {
   "cell_type": "code",
   "execution_count": 15,
   "metadata": {},
   "outputs": [],
   "source": [
    "import os \n",
    "import numpy as np\n",
    "import matplotlib.pyplot as plt\n",
    "import pandas as pd\n",
    "from scipy.spatial import distance"
   ]
  },
  {
   "cell_type": "code",
   "execution_count": 16,
   "metadata": {},
   "outputs": [],
   "source": [
    "data_dir = r'C:\\AI_project\\CAM_NAS_Without training\\feature'\n",
    "resnet18_n = np.load(os.path.join(data_dir,'resnet18_without_score.npy'))\n",
    "resnet34_n = np.load(os.path.join(data_dir,'resnet34_without_score.npy'))\n",
    "resnet50_n = np.load(os.path.join(data_dir,'resnet50_without_score.npy'))\n",
    "resnet101_n = np.load(os.path.join(data_dir,'resnet101_without_score.npy'))\n",
    "resnet152 = np.load(os.path.join(data_dir,'resnet152_score_training.npy'))\n",
    "densenet_121 = np.load(os.path.join(data_dir,'densenet121_without_score.npy'))\n",
    "vgg19 = np.load(os.path.join(data_dir,'VGG19_without_score.npy'))\n",
    "efficientNet_b1 = np.load(os.path.join(data_dir,'efficientNET_without_score.npy'))"
   ]
  },
  {
   "cell_type": "code",
   "execution_count": 17,
   "metadata": {},
   "outputs": [],
   "source": [
    "resnet18_1_n = resnet18_n.flatten()\n",
    "resnet34_1_n = resnet34_n.flatten()\n",
    "resnet50_1_n = resnet50_n.flatten()\n",
    "resnet101_1_n = resnet101_n.flatten()\n",
    "resnet152_1 = resnet152.flatten()\n",
    "densenet_121_1_n = densenet_121.flatten()\n",
    "vgg19_1_n = vgg19.flatten()\n",
    "efficientNet_b1_1_n = efficientNet_b1.flatten()"
   ]
  },
  {
   "cell_type": "code",
   "execution_count": 18,
   "metadata": {},
   "outputs": [
    {
     "data": {
      "text/plain": [
       "6.2644453048706055"
      ]
     },
     "execution_count": 18,
     "metadata": {},
     "output_type": "execute_result"
    }
   ],
   "source": [
    "test_1_n = distance.euclidean(resnet152_1, resnet18_1_n)\n",
    "test_1_n"
   ]
  },
  {
   "cell_type": "code",
   "execution_count": 19,
   "metadata": {},
   "outputs": [
    {
     "data": {
      "text/plain": [
       "5.868007659912109"
      ]
     },
     "execution_count": 19,
     "metadata": {},
     "output_type": "execute_result"
    }
   ],
   "source": [
    "test_2_n = distance.euclidean(resnet152_1, resnet34_1_n)\n",
    "test_2_n"
   ]
  },
  {
   "cell_type": "code",
   "execution_count": 20,
   "metadata": {},
   "outputs": [
    {
     "data": {
      "text/plain": [
       "5.671369552612305"
      ]
     },
     "execution_count": 20,
     "metadata": {},
     "output_type": "execute_result"
    }
   ],
   "source": [
    "test_3_n = distance.euclidean(resnet152_1, resnet50_1_n)\n",
    "test_3_n"
   ]
  },
  {
   "cell_type": "code",
   "execution_count": 21,
   "metadata": {},
   "outputs": [
    {
     "data": {
      "text/plain": [
       "5.609431266784668"
      ]
     },
     "execution_count": 21,
     "metadata": {},
     "output_type": "execute_result"
    }
   ],
   "source": [
    "test_4_n = distance.euclidean(resnet152_1, resnet101_1_n)\n",
    "test_4_n"
   ]
  },
  {
   "cell_type": "code",
   "execution_count": 22,
   "metadata": {},
   "outputs": [
    {
     "data": {
      "text/plain": [
       "6.968135356903076"
      ]
     },
     "execution_count": 22,
     "metadata": {},
     "output_type": "execute_result"
    }
   ],
   "source": [
    "test_4_n = distance.euclidean(resnet152_1, densenet_121_1_n)\n",
    "test_4_n"
   ]
  },
  {
   "cell_type": "code",
   "execution_count": 23,
   "metadata": {},
   "outputs": [
    {
     "data": {
      "text/plain": [
       "7.555882453918457"
      ]
     },
     "execution_count": 23,
     "metadata": {},
     "output_type": "execute_result"
    }
   ],
   "source": [
    "test_9_n = distance.euclidean(resnet152_1, vgg19_1_n)\n",
    "test_9_n"
   ]
  },
  {
   "cell_type": "code",
   "execution_count": 24,
   "metadata": {},
   "outputs": [
    {
     "data": {
      "text/plain": [
       "8.718156814575195"
      ]
     },
     "execution_count": 24,
     "metadata": {},
     "output_type": "execute_result"
    }
   ],
   "source": [
    "test_10_n = distance.euclidean(resnet152_1, efficientNet_b1_1_n)\n",
    "test_10_n"
   ]
  },
  {
   "cell_type": "code",
   "execution_count": 25,
   "metadata": {},
   "outputs": [
    {
     "name": "stdout",
     "output_type": "stream",
     "text": [
      "3.663536548614502\n",
      "3.710876226425171\n",
      "3.2395474910736084\n",
      "4.251256942749023\n"
     ]
    }
   ],
   "source": [
    "test_5_n = distance.euclidean(resnet18_1_n, densenet_121_1_n)\n",
    "print(test_5_n)\n",
    "test_8_n = distance.euclidean(resnet34_1_n, densenet_121_1_n)\n",
    "print(test_8_n)\n",
    "test_6_n = distance.euclidean(resnet50_1_n, densenet_121_1_n)\n",
    "print(test_6_n)\n",
    "test_7_n = distance.euclidean(resnet101_1_n, densenet_121_1_n)\n",
    "print(test_7_n)"
   ]
  }
 ],
 "metadata": {
  "interpreter": {
   "hash": "5dd332e029b44e3cdae0bc1e0f889432ab10c991d94ce208a100786ff3ed8f98"
  },
  "kernelspec": {
   "display_name": "Python 3.9.7 ('base')",
   "language": "python",
   "name": "python3"
  },
  "language_info": {
   "codemirror_mode": {
    "name": "ipython",
    "version": 3
   },
   "file_extension": ".py",
   "mimetype": "text/x-python",
   "name": "python",
   "nbconvert_exporter": "python",
   "pygments_lexer": "ipython3",
   "version": "3.9.7"
  },
  "orig_nbformat": 4
 },
 "nbformat": 4,
 "nbformat_minor": 2
}
