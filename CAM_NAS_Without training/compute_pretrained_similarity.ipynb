{
 "cells": [
  {
   "cell_type": "code",
   "execution_count": 5,
   "metadata": {},
   "outputs": [],
   "source": [
    "import os \n",
    "import numpy as np\n",
    "import matplotlib.pyplot as plt\n",
    "import pandas as pd\n",
    "from scipy.spatial import distance"
   ]
  },
  {
   "cell_type": "code",
   "execution_count": 6,
   "metadata": {},
   "outputs": [],
   "source": [
    "data_dir = r'C:\\AI_project\\CAM_NAS_Without training\\feature'\n",
    "resnet18 = np.load(os.path.join(data_dir,'resnet18.npy'))\n",
    "resnet34 = np.load(os.path.join(data_dir,'resnet34.npy'))\n",
    "resnet50 = np.load(os.path.join(data_dir,'resnet50.npy'))\n",
    "resnet101 = np.load(os.path.join(data_dir,'resnet101.npy'))\n",
    "resnet152 = np.load(os.path.join(data_dir,'resnet152_grad_training.npy'))\n",
    "efftctentNet = np.load(os.path.join(data_dir,'efficientNet.npy'))"
   ]
  },
  {
   "cell_type": "code",
   "execution_count": 7,
   "metadata": {},
   "outputs": [],
   "source": [
    "resnet18_1 = resnet18.flatten()\n",
    "resnet34_1 = resnet34.flatten()\n",
    "resnet50_1 = resnet50.flatten()\n",
    "resnet101_1 = resnet101.flatten()\n",
    "resnet152_1 = resnet152.flatten()\n",
    "efftctentNet_1 = efftctentNet.flatten()"
   ]
  },
  {
   "cell_type": "code",
   "execution_count": 8,
   "metadata": {},
   "outputs": [
    {
     "data": {
      "text/plain": [
       "2.9038846492767334"
      ]
     },
     "execution_count": 8,
     "metadata": {},
     "output_type": "execute_result"
    }
   ],
   "source": [
    "test_1 = distance.euclidean(resnet152_1, resnet18_1)\n",
    "test_1"
   ]
  },
  {
   "cell_type": "code",
   "execution_count": 9,
   "metadata": {},
   "outputs": [
    {
     "data": {
      "text/plain": [
       "2.711564064025879"
      ]
     },
     "execution_count": 9,
     "metadata": {},
     "output_type": "execute_result"
    }
   ],
   "source": [
    "test_2 = distance.euclidean(resnet152_1,resnet34_1)\n",
    "test_2"
   ]
  },
  {
   "cell_type": "code",
   "execution_count": 10,
   "metadata": {},
   "outputs": [
    {
     "data": {
      "text/plain": [
       "2.5439300537109375"
      ]
     },
     "execution_count": 10,
     "metadata": {},
     "output_type": "execute_result"
    }
   ],
   "source": [
    "test_3 = distance.euclidean(resnet152_1,resnet50_1)\n",
    "test_3"
   ]
  },
  {
   "cell_type": "code",
   "execution_count": 11,
   "metadata": {},
   "outputs": [
    {
     "data": {
      "text/plain": [
       "2.312081813812256"
      ]
     },
     "execution_count": 11,
     "metadata": {},
     "output_type": "execute_result"
    }
   ],
   "source": [
    "test_4 = distance.euclidean(resnet152_1,resnet101_1)\n",
    "test_4"
   ]
  },
  {
   "cell_type": "code",
   "execution_count": 12,
   "metadata": {},
   "outputs": [
    {
     "data": {
      "text/plain": [
       "6.243296146392822"
      ]
     },
     "execution_count": 12,
     "metadata": {},
     "output_type": "execute_result"
    }
   ],
   "source": [
    "test_5 = distance.euclidean(resnet152_1,efftctentNet_1)\n",
    "test_5"
   ]
  }
 ],
 "metadata": {
  "interpreter": {
   "hash": "5dd332e029b44e3cdae0bc1e0f889432ab10c991d94ce208a100786ff3ed8f98"
  },
  "kernelspec": {
   "display_name": "Python 3.9.7 ('base')",
   "language": "python",
   "name": "python3"
  },
  "language_info": {
   "codemirror_mode": {
    "name": "ipython",
    "version": 3
   },
   "file_extension": ".py",
   "mimetype": "text/x-python",
   "name": "python",
   "nbconvert_exporter": "python",
   "pygments_lexer": "ipython3",
   "version": "3.9.7"
  },
  "orig_nbformat": 4
 },
 "nbformat": 4,
 "nbformat_minor": 2
}
